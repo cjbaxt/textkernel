{
 "cells": [
  {
   "cell_type": "markdown",
   "id": "5e58e022-b561-4fe1-bb38-d930eb69662c",
   "metadata": {},
   "source": [
    "### Notes\n",
    "- probably not enough data to use word2vec\n",
    "- need to add summary"
   ]
  },
  {
   "cell_type": "code",
   "execution_count": null,
   "id": "e9a4cdb9-1420-41f5-b08b-f01ad9a40b83",
   "metadata": {},
   "outputs": [],
   "source": [
    "# Imports\n",
    "import numpy as np\n",
    "import pandas as pd\n",
    "import sklearn\n",
    "from nltk import pos_tag\n",
    "from nltk.corpus import stopwords\n",
    "from nltk.corpus import wordnet as wn\n",
    "from nltk.stem import WordNetLemmatizer\n",
    "from nltk.tokenize import word_tokenize\n",
    "from sklearn.feature_extraction.text import TfidfVectorizer\n",
    "from sklearn.linear_model import SGDClassifier\n",
    "from sklearn.metrics import accuracy_score\n",
    "from sklearn.model_selection import GridSearchCV\n",
    "from sklearn.naive_bayes import MultinomialNB\n",
    "from sklearn.pipeline import Pipeline\n",
    "from sklearn.preprocessing import LabelEncoder\n",
    "from sklearn.tree import DecisionTreeClassifier\n",
    "\n",
    "import algorithms\n",
    "\n",
    "# Custom imports\n",
    "from utils import accessors, preprocess, validation\n",
    ""
   ]
  },
  {
   "cell_type": "markdown",
   "id": "11f28391",
   "metadata": {},
   "source": [
    "## Setup, load data and preprocess"
   ]
  },
  {
   "cell_type": "code",
   "execution_count": null,
   "id": "3236e466-47a4-4f94-a2d4-c6280bb77b1a",
   "metadata": {},
   "outputs": [],
   "source": [
    "np.random.seed(500)\n",
    "show_outputs = True\n",
    ""
   ]
  },
  {
   "cell_type": "code",
   "execution_count": null,
   "id": "b2e0ba7a-3fbb-4a50-8e32-1935228dffe9",
   "metadata": {},
   "outputs": [],
   "source": [
    "# File and location information\n",
    "path = \"dataset/\"\n",
    "add_file = \"addresses.jsonl\"\n",
    "cit_file = \"cities.jsonl\"\n",
    "\n",
    "# Load the datasets in pandas\n",
    "address_df = accessors.load_data(path, add_file)\n",
    "cit_df = accessors.load_data(path, cit_file)\n",
    "\n",
    "# Preprocess the datasets (remove punctuation and parse to lowercase)\n",
    "address_df = preprocess.clean_strings(address_df, \"address\")\n",
    "address_df = address_df.drop_duplicates()\n",
    "cit_df = preprocess.clean_strings(cit_df, \"city\")\n",
    "cit_df = cit_df.drop_duplicates()\n",
    "\n",
    "if show_outputs:\n",
    "    display(address_df)\n",
    "    display(cit_df)\n",
    ""
   ]
  },
  {
   "cell_type": "markdown",
   "id": "5f097c30-83f4-4442-a42e-8676dbb68ff8",
   "metadata": {},
   "source": [
    "### Quick data analytics"
   ]
  },
  {
   "cell_type": "code",
   "execution_count": null,
   "id": "979bb373-7872-4583-b012-28968fef515b",
   "metadata": {},
   "outputs": [],
   "source": [
    "# Any nans in the dataset?\n",
    "print(address_df.isna().sum())\n",
    "print(cit_df.isna().sum())\n",
    ""
   ]
  },
  {
   "cell_type": "code",
   "execution_count": null,
   "id": "9270447e",
   "metadata": {},
   "outputs": [],
   "source": [
    "# Number of occurences of each country\n",
    "countries = address_df.groupby(\"country\").count()\n",
    "countries.plot.barh()\n",
    "countries.plot.barh(log=True)\n",
    ""
   ]
  },
  {
   "cell_type": "markdown",
   "id": "dae1e2d6-678f-479a-af6c-5149ea2a3e0e",
   "metadata": {},
   "source": [
    "# Simple search city df solution \n",
    "Split address into tokens and brute force search in city dataframe "
   ]
  },
  {
   "cell_type": "code",
   "execution_count": null,
   "id": "d19498f2-ccce-4dcd-8b64-53b2b350de00",
   "metadata": {
    "tags": []
   },
   "outputs": [],
   "source": [
    "t1 = dt.now()\n",
    "# Initiate SplitSearch\n",
    "split_search = algorithms.SplitSearch(address_df, cit_df)\n",
    "split_search.run()\n",
    "add_df_out = split_search.get_df()  # TODO: Save this\n",
    "\n",
    "# Get the accuracy\n",
    "accuracy = split_search.get_accuracy()  # TODO: Save this\n",
    "display(accuracy)\n",
    "\n",
    "# Get the cities that occur in multiple counries\n",
    "dupe_cities = split_search.get_dupe_cities()\n",
    "print(dupe_cities)\n",
    "\n",
    "t2 = dt.now()\n",
    "print(\"Time for calculation: {}\".format((t2 - t1)))\n",
    ""
   ]
  },
  {
   "cell_type": "markdown",
   "id": "0308cd7d-2118-436b-a1bb-cb0947f81991",
   "metadata": {},
   "source": [
    "### Short-comings\n",
    "- only using the city information, and not any of the other address data\n",
    "- not all cities are one single string \n",
    "- special characters might change (e.g. \u00df -> ss) so the city will be missed\n",
    "- some cities exist in multiple countries\n",
    "- slow and not scalable"
   ]
  },
  {
   "cell_type": "markdown",
   "id": "7cedfd61",
   "metadata": {},
   "source": [
    "# Simple ML solution \n",
    "- First split the data into training and test datasets\n",
    "- Encode the label\n",
    "- Build a pipeline of different models and sets of hyper parameters to grid search over (including encoding the address)\n",
    "- Extract the best model"
   ]
  },
  {
   "cell_type": "markdown",
   "id": "a0c05136",
   "metadata": {},
   "source": [
    "## Train test split \n",
    "- Train on 80% of the data and use the remaining 20% to validate the approach\n",
    "- Stratify over country since they are not all equally occurring in the dataset"
   ]
  },
  {
   "cell_type": "code",
   "execution_count": null,
   "id": "c7bfc44e",
   "metadata": {},
   "outputs": [],
   "source": [
    "# Train test split\n",
    "train_x, test_x, train_y, test_y = sklearn.model_selection.train_test_split(\n",
    "    address_df[\"address\"],\n",
    "    address_df[\"country\"],\n",
    "    stratify=address_df[\"country\"],\n",
    "    test_size=0.2,\n",
    ")\n",
    "\n",
    "# Combine the city dataset with the address dataset for training\n",
    "train_x = pd.concat([train_x, cit_df[\"city\"]])\n",
    "train_y = pd.concat([train_y, cit_df[\"country\"]])\n",
    ""
   ]
  },
  {
   "cell_type": "markdown",
   "id": "1878d5ff",
   "metadata": {},
   "source": [
    "### Label encoder"
   ]
  },
  {
   "cell_type": "code",
   "execution_count": null,
   "id": "fc8fb22b",
   "metadata": {},
   "outputs": [],
   "source": [
    "# Initialise label encoder (assigns numerical value to country str)\n",
    "Encoder = LabelEncoder()\n",
    "\n",
    "# Encode the labels\n",
    "train_y = Encoder.fit_transform(train_y)\n",
    "test_y = Encoder.fit_transform(test_y)\n",
    "\n",
    "if show_outputs:\n",
    "    print(train_y)\n",
    "    print(test_y)\n",
    ""
   ]
  },
  {
   "cell_type": "markdown",
   "id": "e5bf6b52",
   "metadata": {},
   "source": [
    "### Vectorizer, model and hyperparameter pipeline"
   ]
  },
  {
   "cell_type": "code",
   "execution_count": null,
   "id": "2074e4a6",
   "metadata": {},
   "outputs": [],
   "source": [
    "# Set up sklearn pipline so we can grid search to find the best model and hyperparameters\n",
    "\n",
    "pipeline = Pipeline(\n",
    "    [\n",
    "        (\"tfidf\", TfidfVectorizer()),\n",
    "        (\"clf\", algorithms.ClfSwitcher()),\n",
    "    ]\n",
    ")\n",
    "\n",
    "parameters = [\n",
    "    {\n",
    "        \"clf__estimator\": [SGDClassifier()],  # SVM if hinge loss / logreg if log loss\n",
    "        \"tfidf__max_df\": (0.25, 0.5, 0.75, 1.0),\n",
    "        \"tfidf__stop_words\": [\"english\", None],\n",
    "        \"clf__estimator__penalty\": (\"l2\", \"elasticnet\", \"l1\"),\n",
    "        \"clf__estimator__max_iter\": [50, 80],\n",
    "        \"clf__estimator__tol\": [1e-4],\n",
    "        \"clf__estimator__loss\": [\"hinge\", \"log_loss\", \"modified_huber\"],\n",
    "    },\n",
    "    {\n",
    "        \"clf__estimator\": [MultinomialNB()],\n",
    "        \"tfidf__max_df\": (0.25, 0.5, 0.75, 1.0),\n",
    "        \"tfidf__stop_words\": [\"english\", None],\n",
    "        \"clf__estimator__alpha\": (1e-2, 1e-3, 1e-1),\n",
    "    },\n",
    "]\n",
    "\n",
    "gscv = GridSearchCV(\n",
    "    pipeline, parameters, cv=5, n_jobs=12, return_train_score=False, verbose=3\n",
    ")\n",
    "gscv.fit(train_x, train_y)\n",
    ""
   ]
  },
  {
   "cell_type": "code",
   "execution_count": null,
   "id": "38b1888e",
   "metadata": {},
   "outputs": [],
   "source": [
    "best_params = gscv.best_params_\n",
    "print(best_params)\n",
    "best_pipe = gscv.best_estimator_\n",
    "print(best_pipe)\n",
    "\n",
    "print(\"Training set score: \" + str(gscv.score(train_x, train_y)))\n",
    "print(\"Test set score: \" + str(gscv.score(test_x, test_y)))\n",
    ""
   ]
  },
  {
   "cell_type": "code",
   "execution_count": null,
   "id": "c77f655f",
   "metadata": {},
   "outputs": [],
   "source": [
    "# Now build the classifier with the best model, save the model and then we can easily take a new address and output a country\n",
    ""
   ]
  },
  {
   "cell_type": "markdown",
   "id": "c01d5c3f",
   "metadata": {},
   "source": [
    "### Notes on this approach \n",
    "- NB is very fast so ver scalable\n",
    "- SVM takes a while to fit and predict on large datasets\n",
    "- SVMs do not perform well when target classes overlap \n",
    "- The results are not significantly better than the simple Naive Bayes approach (92.83 NB vs 93.01 SVM)"
   ]
  },
  {
   "cell_type": "code",
   "execution_count": null,
   "id": "13ef4bbc",
   "metadata": {},
   "outputs": [],
   "source": []
  }
 ],
 "metadata": {
  "kernelspec": {
   "display_name": "Python 3 (ipykernel)",
   "language": "python",
   "name": "python3"
  },
  "language_info": {
   "codemirror_mode": {
    "name": "ipython",
    "version": 3
   },
   "file_extension": ".py",
   "mimetype": "text/x-python",
   "name": "python",
   "nbconvert_exporter": "python",
   "pygments_lexer": "ipython3",
   "version": "3.10.4"
  }
 },
 "nbformat": 4,
 "nbformat_minor": 5
}
