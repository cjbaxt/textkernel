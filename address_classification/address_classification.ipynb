{
 "cells": [
  {
   "cell_type": "markdown",
   "id": "5e58e022-b561-4fe1-bb38-d930eb69662c",
   "metadata": {},
   "source": [
    "### Notes\n",
    "- probably not enough data to use word2vec"
   ]
  },
  {
   "cell_type": "code",
   "execution_count": 4,
   "id": "e9a4cdb9-1420-41f5-b08b-f01ad9a40b83",
   "metadata": {},
   "outputs": [],
   "source": [
    "# Imports\n",
    "import collections\n",
    "from datetime import datetime as dt\n",
    "import numpy as np\n",
    "import pandas as pd\n",
    "import string\n",
    "from tqdm.auto import tqdm # For debugging\n",
    "\n",
    "# Custom imports\n",
    "from utils import accessors, preprocess, validation"
   ]
  },
  {
   "cell_type": "code",
   "execution_count": 5,
   "id": "3236e466-47a4-4f94-a2d4-c6280bb77b1a",
   "metadata": {},
   "outputs": [],
   "source": [
    "np.random.seed(500)\n",
    "show_outputs = True"
   ]
  },
  {
   "cell_type": "code",
   "execution_count": 7,
   "id": "b2e0ba7a-3fbb-4a50-8e32-1935228dffe9",
   "metadata": {},
   "outputs": [
    {
     "data": {
      "text/html": [
       "<div>\n",
       "<style scoped>\n",
       "    .dataframe tbody tr th:only-of-type {\n",
       "        vertical-align: middle;\n",
       "    }\n",
       "\n",
       "    .dataframe tbody tr th {\n",
       "        vertical-align: top;\n",
       "    }\n",
       "\n",
       "    .dataframe thead th {\n",
       "        text-align: right;\n",
       "    }\n",
       "</style>\n",
       "<table border=\"1\" class=\"dataframe\">\n",
       "  <thead>\n",
       "    <tr style=\"text-align: right;\">\n",
       "      <th></th>\n",
       "      <th>address</th>\n",
       "      <th>country</th>\n",
       "    </tr>\n",
       "  </thead>\n",
       "  <tbody>\n",
       "    <tr>\n",
       "      <th>0</th>\n",
       "      <td>mitterweg angath</td>\n",
       "      <td>AT</td>\n",
       "    </tr>\n",
       "    <tr>\n",
       "      <th>1</th>\n",
       "      <td>joseffranzhuterstraße 72 6020 innsbruck austria</td>\n",
       "      <td>AT</td>\n",
       "    </tr>\n",
       "    <tr>\n",
       "      <th>2</th>\n",
       "      <td>flirschberg flirsch österreich</td>\n",
       "      <td>AT</td>\n",
       "    </tr>\n",
       "    <tr>\n",
       "      <th>3</th>\n",
       "      <td>lochbödele landeck austria</td>\n",
       "      <td>AT</td>\n",
       "    </tr>\n",
       "    <tr>\n",
       "      <th>4</th>\n",
       "      <td>ainet 75 9951 ainet</td>\n",
       "      <td>AT</td>\n",
       "    </tr>\n",
       "    <tr>\n",
       "      <th>...</th>\n",
       "      <td>...</td>\n",
       "      <td>...</td>\n",
       "    </tr>\n",
       "    <tr>\n",
       "      <th>595490</th>\n",
       "      <td>allée claude erignac  versailles</td>\n",
       "      <td>FR</td>\n",
       "    </tr>\n",
       "    <tr>\n",
       "      <th>595491</th>\n",
       "      <td>rue du jeu de paume villepreux</td>\n",
       "      <td>FR</td>\n",
       "    </tr>\n",
       "    <tr>\n",
       "      <th>595493</th>\n",
       "      <td>rue du cèdre  morainvilliers</td>\n",
       "      <td>FR</td>\n",
       "    </tr>\n",
       "    <tr>\n",
       "      <th>595494</th>\n",
       "      <td>boissets france</td>\n",
       "      <td>FR</td>\n",
       "    </tr>\n",
       "    <tr>\n",
       "      <th>595495</th>\n",
       "      <td>avenue de la marquise de logivière maule</td>\n",
       "      <td>FR</td>\n",
       "    </tr>\n",
       "  </tbody>\n",
       "</table>\n",
       "<p>459858 rows × 2 columns</p>\n",
       "</div>"
      ],
      "text/plain": [
       "                                                address country\n",
       "0                                      mitterweg angath      AT\n",
       "1       joseffranzhuterstraße 72 6020 innsbruck austria      AT\n",
       "2                        flirschberg flirsch österreich      AT\n",
       "3                            lochbödele landeck austria      AT\n",
       "4                                   ainet 75 9951 ainet      AT\n",
       "...                                                 ...     ...\n",
       "595490                 allée claude erignac  versailles      FR\n",
       "595491                   rue du jeu de paume villepreux      FR\n",
       "595493                     rue du cèdre  morainvilliers      FR\n",
       "595494                                  boissets france      FR\n",
       "595495         avenue de la marquise de logivière maule      FR\n",
       "\n",
       "[459858 rows x 2 columns]"
      ]
     },
     "metadata": {},
     "output_type": "display_data"
    },
    {
     "data": {
      "text/html": [
       "<div>\n",
       "<style scoped>\n",
       "    .dataframe tbody tr th:only-of-type {\n",
       "        vertical-align: middle;\n",
       "    }\n",
       "\n",
       "    .dataframe tbody tr th {\n",
       "        vertical-align: top;\n",
       "    }\n",
       "\n",
       "    .dataframe thead th {\n",
       "        text-align: right;\n",
       "    }\n",
       "</style>\n",
       "<table border=\"1\" class=\"dataframe\">\n",
       "  <thead>\n",
       "    <tr style=\"text-align: right;\">\n",
       "      <th></th>\n",
       "      <th>city</th>\n",
       "      <th>country</th>\n",
       "    </tr>\n",
       "  </thead>\n",
       "  <tbody>\n",
       "    <tr>\n",
       "      <th>0</th>\n",
       "      <td>kappl</td>\n",
       "      <td>AT</td>\n",
       "    </tr>\n",
       "    <tr>\n",
       "      <th>1</th>\n",
       "      <td>schmirn</td>\n",
       "      <td>AT</td>\n",
       "    </tr>\n",
       "    <tr>\n",
       "      <th>2</th>\n",
       "      <td>zams</td>\n",
       "      <td>AT</td>\n",
       "    </tr>\n",
       "    <tr>\n",
       "      <th>3</th>\n",
       "      <td>wattenberg</td>\n",
       "      <td>AT</td>\n",
       "    </tr>\n",
       "    <tr>\n",
       "      <th>4</th>\n",
       "      <td>polling in tirol</td>\n",
       "      <td>AT</td>\n",
       "    </tr>\n",
       "    <tr>\n",
       "      <th>...</th>\n",
       "      <td>...</td>\n",
       "      <td>...</td>\n",
       "    </tr>\n",
       "    <tr>\n",
       "      <th>77476</th>\n",
       "      <td>saintmesmin</td>\n",
       "      <td>FR</td>\n",
       "    </tr>\n",
       "    <tr>\n",
       "      <th>77477</th>\n",
       "      <td>vernouxenvivarais</td>\n",
       "      <td>FR</td>\n",
       "    </tr>\n",
       "    <tr>\n",
       "      <th>77478</th>\n",
       "      <td>sedzemaubecq</td>\n",
       "      <td>FR</td>\n",
       "    </tr>\n",
       "    <tr>\n",
       "      <th>77479</th>\n",
       "      <td>bulatpestivien</td>\n",
       "      <td>FR</td>\n",
       "    </tr>\n",
       "    <tr>\n",
       "      <th>77480</th>\n",
       "      <td>saintlaurentenbeaumont</td>\n",
       "      <td>FR</td>\n",
       "    </tr>\n",
       "  </tbody>\n",
       "</table>\n",
       "<p>77376 rows × 2 columns</p>\n",
       "</div>"
      ],
      "text/plain": [
       "                         city country\n",
       "0                       kappl      AT\n",
       "1                     schmirn      AT\n",
       "2                        zams      AT\n",
       "3                  wattenberg      AT\n",
       "4            polling in tirol      AT\n",
       "...                       ...     ...\n",
       "77476             saintmesmin      FR\n",
       "77477       vernouxenvivarais      FR\n",
       "77478            sedzemaubecq      FR\n",
       "77479          bulatpestivien      FR\n",
       "77480  saintlaurentenbeaumont      FR\n",
       "\n",
       "[77376 rows x 2 columns]"
      ]
     },
     "metadata": {},
     "output_type": "display_data"
    }
   ],
   "source": [
    "# File and location information\n",
    "path = \"dataset/\"\n",
    "add_file = \"addresses.jsonl\"\n",
    "cit_file = \"cities.jsonl\"\n",
    "\n",
    "# Load the datasets in pandas\n",
    "address_df = accessors.load_data(path, add_file) \n",
    "cit_df = accessors.load_data(path, cit_file) \n",
    "\n",
    "# Preprocess the datasets (remove punctuation and parse to lowercase)\n",
    "address_df = preprocess.clean_strings(address_df, 'address') \n",
    "address_df = address_df.drop_duplicates()\n",
    "cit_df = preprocess.clean_strings(cit_df, 'city') \n",
    "cit_df = cit_df.drop_duplicates()\n",
    "\n",
    "if show_outputs: \n",
    "    display(address_df)\n",
    "    display(cit_df)"
   ]
  },
  {
   "cell_type": "markdown",
   "id": "5f097c30-83f4-4442-a42e-8676dbb68ff8",
   "metadata": {},
   "source": [
    "### Quick data analytics"
   ]
  },
  {
   "cell_type": "code",
   "execution_count": null,
   "id": "979bb373-7872-4583-b012-28968fef515b",
   "metadata": {},
   "outputs": [],
   "source": [
    "# Any nans in the dataset?\n",
    "print(address_df.isna().sum())\n",
    "print(cit_df.isna().sum())"
   ]
  },
  {
   "cell_type": "code",
   "execution_count": null,
   "id": "6b922547",
   "metadata": {},
   "outputs": [],
   "source": [
    "# Number of occurences of each country \n",
    "countries = address_df.groupby('country').count()\n",
    "countries.plot.barh()\n",
    "countries.plot.barh(log = True)"
   ]
  },
  {
   "cell_type": "markdown",
   "id": "dae1e2d6-678f-479a-af6c-5149ea2a3e0e",
   "metadata": {},
   "source": [
    "# Simple seach co \n",
    "Split address into tokens and brute force search in city dataframe "
   ]
  },
  {
   "cell_type": "code",
   "execution_count": null,
   "id": "d19498f2-ccce-4dcd-8b64-53b2b350de00",
   "metadata": {
    "tags": []
   },
   "outputs": [],
   "source": [
    "t1 = dt.now()\n",
    "\n",
    "# Initiate SplitSearch\n",
    "split_search = algorithms.SplitSearch(address_df, cit_df)\n",
    "split_search.run()\n",
    "add_df_out = split_search.get_df() # TODO: Save this\n",
    "\n",
    "# Get the accuracy\n",
    "accuracy = split_search.get_accuracy() # TODO: Save this\n",
    "display(accuracy)\n",
    "\n",
    "# Get the cities that occur in multiple counries\n",
    "dupe_cities = split_search.get_dupe_cities()\n",
    "print(dupe_cities)\n",
    "\n",
    "t2 = dt.now()\n",
    "print(\"Time for calculation: {}\".format((t2-t1)))"
   ]
  },
  {
   "cell_type": "markdown",
   "id": "0308cd7d-2118-436b-a1bb-cb0947f81991",
   "metadata": {},
   "source": [
    "### Short-comings\n",
    "- only using the city information, and not any of the other address data\n",
    "- not all cities are one single string \n",
    "- special characters might change (e.g. ß -> ss) so the city will be missed\n",
    "- some cities exist in multiple countries\n",
    "- slow and not scalable"
   ]
  },
  {
   "cell_type": "markdown",
   "id": "de5eee30",
   "metadata": {},
   "source": [
    "# Simple ML solution \n",
    "Split address into tokens and brute force search in city dataframe \n",
    "https://medium.com/@bedigunjit/simple-guide-to-text-classification-nlp-using-svm-and-naive-bayes-with-python-421db3a72d34"
   ]
  },
  {
   "cell_type": "code",
   "execution_count": null,
   "id": "f83e6020",
   "metadata": {},
   "outputs": [],
   "source": [
    "import pandas as pd\n",
    "import numpy as np\n",
    "from nltk import pos_tag\n",
    "from nltk.corpus import stopwords\n",
    "from nltk.corpus import wordnet as wn\n",
    "from nltk.stem import WordNetLemmatizer\n",
    "from nltk.tokenize import word_tokenize\n",
    "from sklearn.preprocessing import LabelEncoder\n",
    "from collections import defaultdict\n",
    "import sklearn \n",
    "from sklearn.tree import DecisionTreeClassifier\n",
    "from sklearn.metrics import accuracy_score\n",
    "from sklearn.feature_extraction.text import TfidfVectorizer"
   ]
  },
  {
   "cell_type": "markdown",
   "id": "6329e042",
   "metadata": {},
   "source": [
    "## Train test split \n",
    "- Train on 80% of the data and use the remaining 20% to validate the approach\n",
    "- Stratify over country since they are not all equally occurring in the dataset"
   ]
  },
  {
   "cell_type": "code",
   "execution_count": null,
   "id": "086b5b43",
   "metadata": {},
   "outputs": [],
   "source": [
    "# Train test split\n",
    "train_x, test_x, train_y, test_y = sklearn.model_selection.train_test_split(address_df['address'],\n",
    "                                                                            address_df['country'],\n",
    "                                                                            stratify=address_df['country'],\n",
    "                                                                            test_size=0.2)\n",
    "\n"
   ]
  },
  {
   "cell_type": "code",
   "execution_count": null,
   "id": "0ca39e5f",
   "metadata": {},
   "outputs": [],
   "source": [
    "# Combine the city dataset with the address dataset for training\n",
    "train_x = pd.concat([train_x,cit_df['city']])\n",
    "train_y = pd.concat([train_y,cit_df['country']])"
   ]
  },
  {
   "cell_type": "markdown",
   "id": "17c1848a",
   "metadata": {},
   "source": [
    "## Feature Generation"
   ]
  },
  {
   "cell_type": "code",
   "execution_count": null,
   "id": "8e9b0b28",
   "metadata": {},
   "outputs": [],
   "source": [
    "# Initialise label encoder (assigns numerical value to country str)\n",
    "Encoder = LabelEncoder()\n",
    "\n",
    "# Encode the labels\n",
    "train_y = Encoder.fit_transform(train_y)\n",
    "test_y = Encoder.fit_transform(test_y)\n",
    "\n",
    "if show_outputs: \n",
    "    print(train_y)\n",
    "    print(test_y)"
   ]
  },
  {
   "cell_type": "code",
   "execution_count": null,
   "id": "0cd2b275",
   "metadata": {},
   "outputs": [],
   "source": [
    "# Initialise term-frequency - inverse document frequency vectoriser\n",
    "tfidf_vect = TfidfVectorizer(max_features=5000)\n",
    "\n",
    "# Fit and transform on addresses\n",
    "tfidf_vect.fit(address_df['address'])\n",
    "train_x_tfidf = tfidf_vect.transform(train_x)\n",
    "test_x_tfidf = tfidf_vect.transform(test_x)\n",
    "\n",
    "if show_outputs: \n",
    "    print(train_x_tfidf)"
   ]
  },
  {
   "cell_type": "markdown",
   "id": "cd189964",
   "metadata": {},
   "source": [
    "## Naive Bayes model"
   ]
  },
  {
   "cell_type": "code",
   "execution_count": null,
   "id": "7a410a79",
   "metadata": {},
   "outputs": [],
   "source": [
    "# fit the training dataset on the NB classifier\n",
    "Naive = sklearn.naive_bayes.MultinomialNB()\n",
    "print(\"fitting...\")\n",
    "Naive.fit(Train_X_Tfidf,Train_Y)\n",
    "# predict the labels on validation dataset\n",
    "print(\"predictiong...\")\n",
    "predictions_NB = Naive.predict(Test_X_Tfidf)\n",
    "# Use accuracy_score function to get the accuracy\n",
    "print(\"Naive Bayes Accuracy: \", accuracy_score(predictions_NB, Test_Y))"
   ]
  },
  {
   "cell_type": "markdown",
   "id": "795dcc8b",
   "metadata": {},
   "source": [
    "### Notes on this approach \n",
    "- Very fast so scalable"
   ]
  },
  {
   "cell_type": "markdown",
   "id": "42727100",
   "metadata": {},
   "source": [
    "## Support Vector Machine"
   ]
  },
  {
   "cell_type": "code",
   "execution_count": null,
   "id": "922c0e20",
   "metadata": {},
   "outputs": [],
   "source": [
    "# fit the training dataset on the classifier\n",
    "SVM = sklearn.svm.SVC(C=1.0, kernel='linear', degree=3, gamma='auto')\n",
    "print(\"fitting...\")\n",
    "SVM.fit(Train_X_Tfidf,Train_Y)\n",
    "# predict the labels on validation dataset\n",
    "print(\"predicting...\")\n",
    "predictions_SVM = SVM.predict(Test_X_Tfidf)\n",
    "# Use accuracy_score function to get the accuracy\n",
    "print(\"SVM Accuracy: \",accuracy_score(predictions_SVM, Test_Y))"
   ]
  },
  {
   "cell_type": "markdown",
   "id": "20d1232a",
   "metadata": {},
   "source": [
    "## Decision tree"
   ]
  },
  {
   "cell_type": "code",
   "execution_count": null,
   "id": "0b5eb92f",
   "metadata": {},
   "outputs": [],
   "source": [
    "tree = DecisionTreeClassifier()\n",
    "print(\"fitting...\")\n",
    "tree.fit(Train_X_Tfidf, Train_Y)\n",
    "# predict the labels on validation dataset\n",
    "print(\"predictiong...\")\n",
    "predictions_tree = tree.predict(Test_X_Tfidf)\n",
    "# Use accuracy_score function to get the accuracy\n",
    "print(\"Decision Tree Accuracy: \", accuracy_score(predictions_tree, Test_Y))"
   ]
  },
  {
   "cell_type": "markdown",
   "id": "9f9f350c",
   "metadata": {},
   "source": [
    "### Notes on this approach \n",
    "- Takes a while to fit \n",
    "- SVMs do not perform well when target classes overlap \n",
    "- Not particularly scalable as it's slow to fit and to predict on large datasets\n",
    "- The results are not significantly better than the simple Naive Bayes approach (92.83 NB vs 93.01 SVM)"
   ]
  },
  {
   "cell_type": "code",
   "execution_count": null,
   "id": "a98859c4",
   "metadata": {},
   "outputs": [],
   "source": [
    "from sklearn.feature_extraction.text import TfidfVectorizer\n",
    "from sklearn.naive_bayes import MultinomialNB\n",
    "from sklearn.linear_model import SGDClassifier\n",
    "from sklearn.pipeline import Pipeline\n",
    "from sklearn.model_selection import GridSearchCV"
   ]
  },
  {
   "cell_type": "code",
   "execution_count": null,
   "id": "f92e5d39",
   "metadata": {},
   "outputs": [],
   "source": [
    "from sklearn.base import BaseEstimator\n",
    "class ClfSwitcher(BaseEstimator):\n",
    "\n",
    "    def __init__(self, estimator = SGDClassifier()):\n",
    "        \"\"\"\n",
    "        A Custom BaseEstimator that can switch between classifiers.\n",
    "        :param estimator: sklearn object - The classifier\n",
    "        \"\"\" \n",
    "\n",
    "        self.estimator = estimator\n",
    "\n",
    "\n",
    "    def fit(self, X, y=None, **kwargs):\n",
    "        self.estimator.fit(X, y)\n",
    "        return self\n",
    "\n",
    "\n",
    "    def predict(self, X, y=None):\n",
    "        return self.estimator.predict(X)\n",
    "\n",
    "\n",
    "    def predict_proba(self, X):\n",
    "        return self.estimator.predict_proba(X)\n",
    "\n",
    "\n",
    "    def score(self, X, y):\n",
    "        return self.estimator.score(X, y)"
   ]
  },
  {
   "cell_type": "code",
   "execution_count": null,
   "id": "1d1d49fc",
   "metadata": {
    "scrolled": true
   },
   "outputs": [],
   "source": [
    "pipeline = Pipeline([('tfidf', TfidfVectorizer()), ('clf', ClfSwitcher()),])\n",
    "\n",
    "parameters = [\n",
    "    {\n",
    "        'clf__estimator': [SGDClassifier()], # SVM if hinge loss / logreg if log loss\n",
    "        'tfidf__max_df': (0.25, 0.5, 0.75, 1.0),\n",
    "        'tfidf__stop_words': ['english', None],\n",
    "        'clf__estimator__penalty': ('l2', 'elasticnet', 'l1'),\n",
    "        'clf__estimator__max_iter': [50, 80],\n",
    "        'clf__estimator__tol': [1e-4],\n",
    "        'clf__estimator__loss': ['hinge', 'log_loss', 'modified_huber'],\n",
    "    },\n",
    "    {\n",
    "        'clf__estimator': [MultinomialNB()],\n",
    "        'tfidf__max_df': (0.25, 0.5, 0.75, 1.0),\n",
    "        'tfidf__stop_words': ['english', None],\n",
    "        'clf__estimator__alpha': (1e-2, 1e-3, 1e-1),\n",
    "    },\n",
    "]\n",
    "\n",
    "gscv = GridSearchCV(pipeline, parameters, cv=5, n_jobs=12, return_train_score=False, verbose=3)\n",
    "gscv.fit(train_x, train_y)"
   ]
  },
  {
   "cell_type": "code",
   "execution_count": null,
   "id": "971b749c",
   "metadata": {},
   "outputs": [],
   "source": [
    "best_params = gscv.best_params_\n",
    "print(best_params)\n",
    "best_pipe = gscv.best_estimator_\n",
    "print(best_pipe)"
   ]
  },
  {
   "cell_type": "code",
   "execution_count": null,
   "id": "5a3f04e0",
   "metadata": {},
   "outputs": [],
   "source": [
    "print('Training set score: ' + str(gscv.score(train_x, train_y)))\n",
    "print('Test set score: ' + str(gscv.score(test_x, test_y)))\n",
    "\n",
    "# print('Training set accuracy: ' + str(gscv.accuracy(train_x, train_y)))\n",
    "# print('Test set accuracy: ' + str(gscv.accuracy(test_x, test_y)))"
   ]
  },
  {
   "cell_type": "code",
   "execution_count": null,
   "id": "fbc6b568",
   "metadata": {},
   "outputs": [],
   "source": []
  }
 ],
 "metadata": {
  "kernelspec": {
   "display_name": "Python 3 (ipykernel)",
   "language": "python",
   "name": "python3"
  },
  "language_info": {
   "codemirror_mode": {
    "name": "ipython",
    "version": 3
   },
   "file_extension": ".py",
   "mimetype": "text/x-python",
   "name": "python",
   "nbconvert_exporter": "python",
   "pygments_lexer": "ipython3",
   "version": "3.10.4"
  }
 },
 "nbformat": 4,
 "nbformat_minor": 5
}
